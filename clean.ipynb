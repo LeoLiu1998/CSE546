{
 "cells": [
  {
   "cell_type": "code",
   "execution_count": 5,
   "metadata": {},
   "outputs": [],
   "source": [
    "import glob\n",
    "import numpy as np\n",
    "from scipy.io import loadmat\n",
    "FILES = glob.glob(\"./data/*.mat\")\n"
   ]
  },
  {
   "cell_type": "code",
   "execution_count": 26,
   "metadata": {},
   "outputs": [],
   "source": [
    "INFO = {}\n",
    "word2index = {}\n",
    "index2word = {}\n",
    "\n",
    "class2index = {}\n",
    "index2class = {}\n",
    "\n",
    "num_class = 0\n",
    "num_word = 0"
   ]
  },
  {
   "cell_type": "code",
   "execution_count": 70,
   "metadata": {},
   "outputs": [],
   "source": [
    "\n",
    "\n",
    "for filename in FILES:\n",
    "    subject = loadmat(filename)\n",
    "    # v_index = 0\n",
    "    subject_infos = subject[\"info\"][0]\n",
    "    for i in range(len(subject_infos)):\n",
    "        trial = subject_infos[i]\n",
    "        class_name = trial[0][0]\n",
    "        class_num = trial[1][0, 0] - 2\n",
    "        word = trial[2][0]\n",
    "        word_num = trial[3][0, 0]\n",
    "        epoch = trial[4][0, 0]\n",
    "        new_info = {\"num_trial\":i,\n",
    "                    \"condition\":class_name, \n",
    "                    \"cond_number\":class_num, \n",
    "                    \"word\":word, \n",
    "                    \"word_number\":word_num, \n",
    "                    \"epoch\":epoch}\n",
    "        if word not in word2index:\n",
    "            word2index[word] = num_word\n",
    "            index2word[num_word] = word\n",
    "            num_word += 1\n",
    "            \n",
    "        if class_name not in class2index:\n",
    "            class2index[class_name] = num_class\n",
    "            index2class[num_class] = class_name\n",
    "            num_class += 1\n",
    "        new_info[\"class_index\"] = class2index[class_name]\n",
    "        new_info[\"word_index\"] = word2index[word]"
   ]
  },
  {
   "cell_type": "code",
   "execution_count": 71,
   "metadata": {},
   "outputs": [
    {
     "data": {
      "text/plain": [
       "{'manmade': 0,\n",
       " 'building': 1,\n",
       " 'buildpart': 2,\n",
       " 'tool': 3,\n",
       " 'furniture': 4,\n",
       " 'animal': 5,\n",
       " 'kitchen': 6,\n",
       " 'vehicle': 7,\n",
       " 'insect': 8,\n",
       " 'vegetable': 9,\n",
       " 'bodypart': 10,\n",
       " 'clothing': 11}"
      ]
     },
     "execution_count": 71,
     "metadata": {},
     "output_type": "execute_result"
    }
   ],
   "source": [
    "class2index"
   ]
  },
  {
   "cell_type": "code",
   "execution_count": 127,
   "metadata": {},
   "outputs": [],
   "source": [
    "class label_info:\n",
    "    FILES = glob.glob(\"./data/*.mat\")\n",
    "    \n",
    "    def __init__(self):\n",
    "        self.word2index = {}\n",
    "        self.index2word = {}\n",
    "\n",
    "        self.class2index = {}\n",
    "        self.index2class = {}\n",
    "\n",
    "        self.num_class = 0\n",
    "        self.num_word = 0\n",
    "        self.info = {}\n",
    "        \n",
    "        self.__process()\n",
    "        self.subject_first = np.array(self.__subject_first())\n",
    "        self.trial_first = np.swapaxes(self.subject_first, 0, 1)\n",
    "        self.sets_by_label = self.__by_label()\n",
    "        \n",
    "    def __process(self):\n",
    "\n",
    "        for j in range(len(FILES)):\n",
    "            filename = FILES[j]\n",
    "            subject = loadmat(filename)\n",
    "            # v_index = 0\n",
    "            subject_infos = subject[\"info\"][0]\n",
    "            self.info[j] = {}\n",
    "            for i in range(len(subject_infos)):\n",
    "                trial = subject_infos[i]\n",
    "                class_name = trial[0][0]\n",
    "                class_num = trial[1][0, 0] - 2\n",
    "                word = trial[2][0]\n",
    "                word_num = trial[3][0, 0]\n",
    "                epoch = trial[4][0, 0]\n",
    "                new_info = {\"num_trial\":i,\n",
    "                            \"condition\":class_name, \n",
    "                            \"cond_number\":class_num, \n",
    "                            \"word\":word, \n",
    "                            \"word_number\":word_num, \n",
    "                            \"epoch\":epoch}\n",
    "\n",
    "                if word not in self.word2index:\n",
    "                    self.word2index[word] = self.num_word\n",
    "                    self.index2word[self.num_word] = word\n",
    "                    self.num_word += 1\n",
    "\n",
    "                if class_name not in self.class2index:\n",
    "                    self.class2index[class_name] = self.num_class\n",
    "                    self.index2class[self.num_class] = class_name\n",
    "                    self.num_class += 1\n",
    "                    \n",
    "                # print(self.class2index)\n",
    "                new_info[\"class_index\"] = self.class2index[class_name]\n",
    "                new_info[\"word_index\"] = self.word2index[word]\n",
    "\n",
    "                self.info[j][i] = new_info\n",
    "                \n",
    "        # assert that every trials done on each subject are the same\n",
    "        # in the exact same order\n",
    "        for trial in range(360):\n",
    "            dic0 = self.info[0][trial]\n",
    "            for sub in range(1, 9):\n",
    "                dic_sub = self.info[sub][trial]\n",
    "                for key, value in dic_sub.items():\n",
    "                    assert key in dic0\n",
    "                    assert dic0[key] == value\n",
    "        \n",
    "    def __subject_first(self):\n",
    "        \"\"\"\n",
    "        return a numpy array (9, 360, 1)\n",
    "        9 rows, indicating cadidates' indices\n",
    "        360 columns, indicating each experiment's true label\n",
    "        1 slots, indicating class label\n",
    "        \"\"\"\n",
    "        result = []\n",
    "        for sub in range(0, 9):\n",
    "            lst = []\n",
    "            for trial in range(360):\n",
    "                lst.append([self.info[sub][trial][\"class_index\"]])\n",
    "            result.append(lst)\n",
    "        return result\n",
    "\n",
    "    def __by_label(self):\n",
    "        \"\"\"\n",
    "        return a list of numpy array.\n",
    "        each element is labels for that class (0-11)\n",
    "        \"\"\"\n",
    "        datasets = []\n",
    "        for target in range(12):\n",
    "            lst = []\n",
    "            for sub in range(0, 9):\n",
    "                for trial in range(360):\n",
    "                    label = self.info[sub][trial][\"cond_number\"]\n",
    "                    # print(label)\n",
    "                    if label == target:\n",
    "                        lst.append(label)\n",
    "            datasets.append(np.array(lst))\n",
    "        return datasets\n",
    "                "
   ]
  },
  {
   "cell_type": "code",
   "execution_count": 128,
   "metadata": {},
   "outputs": [],
   "source": [
    "a = label_info()"
   ]
  },
  {
   "cell_type": "code",
   "execution_count": 130,
   "metadata": {},
   "outputs": [],
   "source": [
    "import pickle"
   ]
  },
  {
   "cell_type": "code",
   "execution_count": 133,
   "metadata": {
    "scrolled": true
   },
   "outputs": [],
   "source": [
    "pickle.dump(a, open(\"label_info().pk\", \"wb\"))"
   ]
  },
  {
   "cell_type": "code",
   "execution_count": 98,
   "metadata": {},
   "outputs": [],
   "source": [
    "a = np.random.rand(2,3)"
   ]
  },
  {
   "cell_type": "code",
   "execution_count": 99,
   "metadata": {},
   "outputs": [
    {
     "data": {
      "text/plain": [
       "array([[0.34015285, 0.64621599, 0.3901493 ],\n",
       "       [0.66934295, 0.78847   , 0.98123653]])"
      ]
     },
     "execution_count": 99,
     "metadata": {},
     "output_type": "execute_result"
    }
   ],
   "source": [
    "a"
   ]
  },
  {
   "cell_type": "code",
   "execution_count": 101,
   "metadata": {},
   "outputs": [
    {
     "data": {
      "text/plain": [
       "array([[0.34015285, 0.66934295],\n",
       "       [0.64621599, 0.78847   ],\n",
       "       [0.3901493 , 0.98123653]])"
      ]
     },
     "execution_count": 101,
     "metadata": {},
     "output_type": "execute_result"
    }
   ],
   "source": [
    "np.swapaxes(a, 0, 1)"
   ]
  },
  {
   "cell_type": "code",
   "execution_count": null,
   "metadata": {},
   "outputs": [],
   "source": []
  },
  {
   "cell_type": "code",
   "execution_count": null,
   "metadata": {},
   "outputs": [],
   "source": []
  },
  {
   "cell_type": "code",
   "execution_count": null,
   "metadata": {},
   "outputs": [],
   "source": []
  }
 ],
 "metadata": {
  "kernelspec": {
   "display_name": "Python 3",
   "language": "python",
   "name": "python3"
  },
  "language_info": {
   "codemirror_mode": {
    "name": "ipython",
    "version": 3
   },
   "file_extension": ".py",
   "mimetype": "text/x-python",
   "name": "python",
   "nbconvert_exporter": "python",
   "pygments_lexer": "ipython3",
   "version": "3.6.0"
  }
 },
 "nbformat": 4,
 "nbformat_minor": 2
}
